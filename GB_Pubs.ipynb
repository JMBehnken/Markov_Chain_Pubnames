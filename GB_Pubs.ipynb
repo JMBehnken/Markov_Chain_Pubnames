{
 "cells": [
  {
   "cell_type": "markdown",
   "metadata": {},
   "source": [
    "# Generates new Pubnames of real Pubs by Markov Chains"
   ]
  },
  {
   "cell_type": "code",
   "execution_count": 1,
   "metadata": {
    "collapsed": true
   },
   "outputs": [],
   "source": [
    "# Import\n",
    "import matplotlib.pyplot as plt\n",
    "from nltk import bigrams\n",
    "import pandas as pd\n",
    "import random"
   ]
  },
  {
   "cell_type": "code",
   "execution_count": 2,
   "metadata": {
    "collapsed": true
   },
   "outputs": [],
   "source": [
    "df = pd.read_csv('every-pub-in-england/open_pubs.csv')"
   ]
  },
  {
   "cell_type": "code",
   "execution_count": 3,
   "metadata": {
    "collapsed": true
   },
   "outputs": [],
   "source": [
    "def getMarkovDict():\n",
    "    # Generate a dictionary for each word with its frequency\n",
    "    words = {}\n",
    "    for name in df['name']:\n",
    "        for word_1, word_2 in bigrams(name.split(' ')):\n",
    "            if word_1 in words.keys():\n",
    "                if word_2 in words[word_1].keys():\n",
    "                    words[word_1][word_2] += 1\n",
    "                else:\n",
    "                    words[word_1][word_2] = 1\n",
    "            else:\n",
    "                words[word_1] = {word_2:1}\n",
    "    return words"
   ]
  },
  {
   "cell_type": "code",
   "execution_count": 4,
   "metadata": {
    "collapsed": true
   },
   "outputs": [],
   "source": [
    "def getNewName(words_in_name=None):\n",
    "    # Generate a new pubname with the dictionary\n",
    "    word = random.choice(list(words.keys()))\n",
    "    name = word\n",
    "    while True:\n",
    "        if word in words.keys() and len(name.split(' '))<100:\n",
    "            liste = []\n",
    "            for w, i in words[word].items():\n",
    "                liste.extend([w]*i)\n",
    "            word = random.choice(liste)\n",
    "            name += ' '+word\n",
    "        else:\n",
    "            if len(name.split(' '))==words_in_name or words_in_name==None:\n",
    "                break\n",
    "            else:\n",
    "                word = random.choice(list(words.keys()))\n",
    "                name = word\n",
    "    return name"
   ]
  },
  {
   "cell_type": "code",
   "execution_count": 5,
   "metadata": {
    "collapsed": true
   },
   "outputs": [],
   "source": [
    "words = getMarkovDict()"
   ]
  },
  {
   "cell_type": "code",
   "execution_count": 6,
   "metadata": {},
   "outputs": [
    {
     "data": {
      "image/png": "[encoded data removed]",
      "text/plain": [
       "<matplotlib.figure.Figure at 0x7f7bb8264518>"
      ]
     },
     "metadata": {},
     "output_type": "display_data"
    }
   ],
   "source": [
    "# Generate 1000 names and store their length\n",
    "lengths = [len(getNewName().split(' ')) for _ in range(1000)]\n",
    "\n",
    "plt.hist(lengths, bins=max(lengths)-min(lengths)+1)\n",
    "plt.title('Length histogram of the new pubnames')\n",
    "plt.xlabel('Words in the pubname')\n",
    "plt.ylabel('Frequency')\n",
    "plt.show()"
   ]
  },
  {
   "cell_type": "markdown",
   "metadata": {},
   "source": [
    "Most new pubs have 3-4 words in their name. Since there is no exit condition in the Markovdictionary loops with infinitly long names are possible."
   ]
  },
  {
   "cell_type": "code",
   "execution_count": 7,
   "metadata": {
    "collapsed": true
   },
   "outputs": [],
   "source": [
    "# Generate new names and have a look at the most probale ones\n",
    "names = [getNewName() for _ in range(50000)]"
   ]
  },
  {
   "cell_type": "code",
   "execution_count": 8,
   "metadata": {
    "scrolled": false
   },
   "outputs": [
    {
     "data": {
      "text/plain": [
       "Frying Pan                     12\n",
       "FORM REQ'D                     10\n",
       "Bonded Warehouse 54 Winebar     9\n",
       "Firefly Inc                     9\n",
       "Bostin Fittle                   9\n",
       "spirits co                      9\n",
       "Lincs Council)                  9\n",
       "(Hussey Arms)                   8\n",
       "Jumping Java                    8\n",
       "Tapsters Promise                8\n",
       "Name: Name, dtype: int64"
      ]
     },
     "execution_count": 8,
     "metadata": {},
     "output_type": "execute_result"
    }
   ],
   "source": [
    "df = pd.DataFrame(names, columns=['Name'])\n",
    "df['Name'].value_counts()[:10]"
   ]
  },
  {
   "cell_type": "code",
   "execution_count": null,
   "metadata": {
    "collapsed": true
   },
   "outputs": [],
   "source": []
  }
 ],
 "metadata": {
  "kernelspec": {
   "display_name": "Python 3",
   "language": "python",
   "name": "python3"
  },
  "language_info": {
   "codemirror_mode": {
    "name": "ipython",
    "version": 3
   },
   "file_extension": ".py",
   "mimetype": "text/x-python",
   "name": "python",
   "nbconvert_exporter": "python",
   "pygments_lexer": "ipython3",
   "version": "3.6.1"
  }
 },
 "nbformat": 4,
 "nbformat_minor": 2
}
